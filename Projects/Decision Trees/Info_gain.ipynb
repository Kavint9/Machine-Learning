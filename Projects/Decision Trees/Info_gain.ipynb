{
 "cells": [
  {
   "cell_type": "code",
   "execution_count": 137,
   "metadata": {},
   "outputs": [],
   "source": [
    "import numpy as np\n",
    "import pandas as pd\n",
    "from pprint import pprint"
   ]
  },
  {
   "cell_type": "code",
   "execution_count": 101,
   "metadata": {},
   "outputs": [],
   "source": [
    "df_train = pd.read_csv(\"HW1/all_data/train_c300_d100.csv\", header=None)"
   ]
  },
  {
   "cell_type": "code",
   "execution_count": 141,
   "metadata": {},
   "outputs": [
    {
     "name": "stdout",
     "output_type": "stream",
     "text": [
      "b\n"
     ]
    }
   ],
   "source": [
    "df_train.head()\n",
    "a={\"a\":1, \"b\": 3, \"c\": 2}\n",
    "max_key = max(a, key=a.get)\n",
    "print(max_key)"
   ]
  },
  {
   "cell_type": "code",
   "execution_count": 94,
   "metadata": {},
   "outputs": [],
   "source": [
    "# df_train = df.iloc[:,:30]\n",
    "# df_label = df.iloc[:,-1]\n",
    "# print(df_label.head())\n",
    "# print(df_train.shape)\n",
    "# df_final = df_train.join(df_label)\n",
    "# print(df_final.shape)\n",
    "# print(df_train.shape)"
   ]
  },
  {
   "cell_type": "code",
   "execution_count": 95,
   "metadata": {},
   "outputs": [
    {
     "name": "stdout",
     "output_type": "stream",
     "text": [
      "0\n"
     ]
    }
   ],
   "source": [
    "data = np.array([1])\n",
    "if len(data) == 1:\n",
    "    print(0)"
   ]
  },
  {
   "cell_type": "code",
   "execution_count": 96,
   "metadata": {},
   "outputs": [
    {
     "name": "stdout",
     "output_type": "stream",
     "text": [
      "data has 0\n"
     ]
    }
   ],
   "source": [
    "if not 0 in data:\n",
    "    print(\"data has 0\")"
   ]
  },
  {
   "cell_type": "code",
   "execution_count": 97,
   "metadata": {},
   "outputs": [],
   "source": [
    "def check_purity(data):\n",
    "    \n",
    "    label_column = data[:, -1]\n",
    "    unique_classes = np.unique(label_column)\n",
    "    \n",
    "    if len(unique_classes) == 1:\n",
    "        return True\n",
    "    else:\n",
    "        return False"
   ]
  },
  {
   "cell_type": "code",
   "execution_count": 98,
   "metadata": {},
   "outputs": [],
   "source": [
    "def classify_data(data):\n",
    "    label = data[:,-1]\n",
    "    classes, counts = np.unique(label, return_counts=True)\n",
    "#     print(classes, counts)\n",
    "    classification = classes[counts.argmax()]\n",
    "    return classification"
   ]
  },
  {
   "cell_type": "code",
   "execution_count": 99,
   "metadata": {},
   "outputs": [
    {
     "data": {
      "text/plain": [
       "True"
      ]
     },
     "execution_count": 99,
     "metadata": {},
     "output_type": "execute_result"
    }
   ],
   "source": [
    "check_purity(df_train[1:2].values)"
   ]
  },
  {
   "cell_type": "code",
   "execution_count": 102,
   "metadata": {},
   "outputs": [
    {
     "data": {
      "text/plain": [
       "range(0, 500)"
      ]
     },
     "execution_count": 102,
     "metadata": {},
     "output_type": "execute_result"
    }
   ],
   "source": [
    "range(len(df_train.columns) - 1)"
   ]
  },
  {
   "cell_type": "markdown",
   "metadata": {},
   "source": [
    "## Split Data"
   ]
  },
  {
   "cell_type": "code",
   "execution_count": 103,
   "metadata": {},
   "outputs": [],
   "source": [
    "def get_potential_splits(data):\n",
    "    _, n_columns = data.shape\n",
    "    \n",
    "    #last column  is label and is not considered\n",
    "    return range(n_columns - 1)    "
   ]
  },
  {
   "cell_type": "code",
   "execution_count": 104,
   "metadata": {},
   "outputs": [
    {
     "data": {
      "text/plain": [
       "range(0, 500)"
      ]
     },
     "execution_count": 104,
     "metadata": {},
     "output_type": "execute_result"
    }
   ],
   "source": [
    "get_potential_splits(df_train.values)"
   ]
  },
  {
   "cell_type": "code",
   "execution_count": 105,
   "metadata": {},
   "outputs": [],
   "source": [
    "def split_data(data, split_column):\n",
    "    split_column_val = data[:, split_column]\n",
    "    data_attr_false = data[split_column_val == 0]\n",
    "    data_attr_true = data[split_column_val == 1]\n",
    "    return data_attr_false, data_attr_true"
   ]
  },
  {
   "cell_type": "code",
   "execution_count": 106,
   "metadata": {},
   "outputs": [
    {
     "name": "stdout",
     "output_type": "stream",
     "text": [
      "[1 0 1 1 1 0 0 0 0 1 1 1 0 0 0 0 1 1 1 1 1 1 0 1 0 1 1 0 1 0 1 0 1 0 1 0 0\n",
      " 1 0 1 1 0 1 1 0 0 1 1 0 1 1 0 0 1 1 0 0 0 1 1 1 1 1 1 0 0 0 1 1 0 1 0 0 0\n",
      " 0 0 0 0 0] [0 1 0 0 1 1 1 1 0 1 0 1 0 1 0 0 0 1 0 1 0 1 0 1 1 0 1 0 1 1 0 1 0 1 1 0 1\n",
      " 0 0 0 0 0 1 0 1 0 0 1 0 1 0 0 1 0 1 0 1 0 0 1 0 1 1 0 1 1 0 0 1 0 0 1 0 1\n",
      " 0 0 0 1 0 1 0 1 1 1 0 0 0 1 1 1 0 1 0 0 0 0 0 1 0 1 0 1 1 1 0 0 0 1 0 1 0\n",
      " 1 1 1 1 1 0 1 1 1 1]\n",
      "(79, 501) (121, 501)\n"
     ]
    }
   ],
   "source": [
    "split_column = 9\n",
    "data_F, data_T = split_data(df_train.values, split_column)\n",
    "print(data_F[:, -1], data_T[:, -1])\n",
    "print(data_F.shape, data_T.shape)"
   ]
  },
  {
   "cell_type": "code",
   "execution_count": 107,
   "metadata": {},
   "outputs": [],
   "source": [
    "def calculate_entropy(data):\n",
    "    label_column = data[:, -1]\n",
    "    _, counts = np.unique(label_column, return_counts=True)\n",
    "    probabilities = counts / counts.sum()\n",
    "#     print(probabilities, counts)\n",
    "    entropy = sum(probabilities * -np.log2(probabilities))\n",
    "    return entropy"
   ]
  },
  {
   "cell_type": "code",
   "execution_count": 108,
   "metadata": {},
   "outputs": [
    {
     "data": {
      "text/plain": [
       "1.0"
      ]
     },
     "execution_count": 108,
     "metadata": {},
     "output_type": "execute_result"
    }
   ],
   "source": [
    "calculate_entropy(df_train.values)"
   ]
  },
  {
   "cell_type": "code",
   "execution_count": 109,
   "metadata": {},
   "outputs": [],
   "source": [
    "def determine_best_split(data, potential_splits):\n",
    "    best_info_gain = None\n",
    "    for column_index in potential_splits:\n",
    "        data_f, data_t = split_data(data, column_index)\n",
    "        \n",
    "        #Info Gain\n",
    "        info_gain = ( calculate_entropy(data) - \n",
    "                     ((len(data_f)/len(data)) * calculate_entropy(data_f)) - \n",
    "                     ((len(data_t)/len(data)) * calculate_entropy(data_t)) )\n",
    "        \n",
    "        if best_info_gain is None:\n",
    "            best_info_gain = info_gain\n",
    "            best_split_column = column_index\n",
    "        elif info_gain >= best_info_gain:\n",
    "            best_info_gain = info_gain\n",
    "            best_split_column = column_index\n",
    "#             print(column_index, info_gain)\n",
    "    return best_split_column"
   ]
  },
  {
   "cell_type": "code",
   "execution_count": 110,
   "metadata": {},
   "outputs": [
    {
     "name": "stdout",
     "output_type": "stream",
     "text": [
      "459\n"
     ]
    }
   ],
   "source": [
    "split_col = determine_best_split(df_train.values, get_potential_splits(df_train.values))\n",
    "print(split_col)"
   ]
  },
  {
   "cell_type": "markdown",
   "metadata": {},
   "source": [
    "## Main Algorithm"
   ]
  },
  {
   "cell_type": "code",
   "execution_count": 134,
   "metadata": {},
   "outputs": [],
   "source": [
    "def decision_tree_algorithm(data, depth=0, dmax=5):\n",
    "    \n",
    "    # base case\n",
    "    if ( check_purity(data) == True or\n",
    "        depth >= dmax ):\n",
    "        classification = classify_data(data)\n",
    "        return classification\n",
    "    \n",
    "    #recursion\n",
    "    else:\n",
    "        depth+=1\n",
    "        \n",
    "        split_column = determine_best_split(data, get_potential_splits(data))\n",
    "        data_0, data_1 = split_data(data, split_column)\n",
    "        \n",
    "        if len(data_0) == 0 or len(data_1) == 0:\n",
    "            classification = classify_data(data)\n",
    "            return classification\n",
    "        \n",
    "        question = f\"{split_column} == 0\"\n",
    "        \n",
    "        #instantiate sub-tree\n",
    "        sub_tree = {question: []}\n",
    "        \n",
    "        is_0 = decision_tree_algorithm(data_0, depth)\n",
    "        is_1 = decision_tree_algorithm(data_1, depth)\n",
    "        \n",
    "        sub_tree[question].append(is_0)\n",
    "        sub_tree[question].append(is_1)\n",
    "        \n",
    "        return sub_tree"
   ]
  },
  {
   "cell_type": "code",
   "execution_count": 138,
   "metadata": {},
   "outputs": [
    {
     "name": "stdout",
     "output_type": "stream",
     "text": [
      "{'459 == 0': [{'430 == 0': [{'118 == 0': [{'389 == 0': [{'468 == 0': [0, 1]},\n",
      "                                                        0]},\n",
      "                                          {'445 == 0': [{'356 == 0': [1, 0]},\n",
      "                                                        {'351 == 0': [1,\n",
      "                                                                      0]}]}]},\n",
      "                            {'306 == 0': [{'234 == 0': [{'379 == 0': [0, 1]},\n",
      "                                                        {'312 == 0': [0, 1]}]},\n",
      "                                          {'172 == 0': [{'360 == 0': [0, 1]},\n",
      "                                                        1]}]}]},\n",
      "              {'321 == 0': [{'311 == 0': [{'383 == 0': [1,\n",
      "                                                        {'498 == 0': [1, 0]}]},\n",
      "                                          {'434 == 0': [{'101 == 0': [0, 1]},\n",
      "                                                        0]}]},\n",
      "                            {'475 == 0': [{'144 == 0': [0,\n",
      "                                                        {'494 == 0': [1, 0]}]},\n",
      "                                          0]}]}]}\n"
     ]
    }
   ],
   "source": [
    "tree = decision_tree_algorithm(df_train.values)\n",
    "pprint(tree)"
   ]
  },
  {
   "cell_type": "markdown",
   "metadata": {},
   "source": []
  },
  {
   "cell_type": "code",
   "execution_count": null,
   "metadata": {},
   "outputs": [],
   "source": []
  },
  {
   "cell_type": "code",
   "execution_count": null,
   "metadata": {},
   "outputs": [],
   "source": []
  },
  {
   "cell_type": "code",
   "execution_count": null,
   "metadata": {},
   "outputs": [],
   "source": []
  },
  {
   "cell_type": "code",
   "execution_count": null,
   "metadata": {},
   "outputs": [],
   "source": []
  },
  {
   "cell_type": "markdown",
   "metadata": {},
   "source": [
    "## Classification"
   ]
  },
  {
   "cell_type": "code",
   "execution_count": 113,
   "metadata": {},
   "outputs": [
    {
     "name": "stdout",
     "output_type": "stream",
     "text": [
      "0      1\n",
      "1      0\n",
      "2      0\n",
      "3      1\n",
      "4      0\n",
      "      ..\n",
      "496    1\n",
      "497    1\n",
      "498    0\n",
      "499    0\n",
      "500    1\n",
      "Name: 0, Length: 501, dtype: int64\n"
     ]
    }
   ],
   "source": [
    "df_test = pd.read_csv(\"HW1/all_data/test_c300_d100.csv\", header=None)\n",
    "# df_test_data = df.iloc[:, :30]\n",
    "# df_test_label = df.iloc[:, -1]\n",
    "# df_test = df_test_data.join(df_test_label)\n",
    "example = df_test.iloc[0]\n",
    "print(example)"
   ]
  },
  {
   "cell_type": "code",
   "execution_count": 114,
   "metadata": {},
   "outputs": [],
   "source": [
    "def classify_example(example, tree, print_path=0):\n",
    "    question = list(tree.keys())[0]\n",
    "    if print_path != 0:\n",
    "        print(question)\n",
    "    feature_index,_, _ = question.split()\n",
    "    \n",
    "    if example[int(feature_index)] == 0:\n",
    "        answer = tree[question][0]\n",
    "        if print_path!=0:\n",
    "            print(\"yes\")\n",
    "    else:\n",
    "        answer = tree[question][1]\n",
    "        if print_path!=0:\n",
    "            print(\"no\")\n",
    "            \n",
    "    # base case\n",
    "    if not isinstance(answer, dict):\n",
    "        return answer\n",
    "    else:\n",
    "        return classify_example(example, answer, print_path)"
   ]
  },
  {
   "cell_type": "code",
   "execution_count": 115,
   "metadata": {},
   "outputs": [
    {
     "name": "stdout",
     "output_type": "stream",
     "text": [
      "459 == 0\n",
      "yes\n",
      "430 == 0\n",
      "yes\n",
      "118 == 0\n",
      "no\n",
      "445 == 0\n",
      "no\n",
      "351 == 0\n",
      "yes\n",
      "1\n",
      "0.615\n"
     ]
    }
   ],
   "source": [
    "answer = classify_example(example, tree, 1)\n",
    "print(answer)\n",
    "classification = df_test.apply(classify_example, axis=1, args=(tree, ))\n",
    "print((classification == df_test[df_test.columns[-1]]).mean())"
   ]
  },
  {
   "cell_type": "markdown",
   "metadata": {},
   "source": [
    "## Accuracy"
   ]
  },
  {
   "cell_type": "code",
   "execution_count": 119,
   "metadata": {},
   "outputs": [],
   "source": [
    "def calculate_accuracy(df, tree):\n",
    "    classification = df.apply(classify_example, axis=1, args=(tree, ))\n",
    "#     print(classification)\n",
    "#     print(df[df.columns[-1]])\n",
    "    classification_correct = classification == df[df.columns[-1]]\n",
    "#     print(classification_correct)\n",
    "    accuracy = classification_correct.mean()\n",
    "    return accuracy"
   ]
  },
  {
   "cell_type": "code",
   "execution_count": 120,
   "metadata": {},
   "outputs": [
    {
     "data": {
      "text/plain": [
       "0.615"
      ]
     },
     "execution_count": 120,
     "metadata": {},
     "output_type": "execute_result"
    }
   ],
   "source": [
    "# print(df_final)\n",
    "calculate_accuracy(df_test, tree)"
   ]
  },
  {
   "cell_type": "markdown",
   "metadata": {},
   "source": [
    "## Post_pruning"
   ]
  },
  {
   "cell_type": "code",
   "execution_count": 121,
   "metadata": {},
   "outputs": [],
   "source": [
    "df_valid = pd.read_csv(\"HW1/all_data/valid_c300_d100.csv\", header=None)\n",
    "# df_valid_data = df.iloc[:, :30]\n",
    "# df_valid_label = df.iloc[:, -1]\n",
    "# df_valid = df_valid_data.join(df_valid_label)\n",
    "# print(df_valid_label)\n",
    "# print(df_valid[df_valid.columns[-1]])"
   ]
  },
  {
   "cell_type": "code",
   "execution_count": 122,
   "metadata": {},
   "outputs": [],
   "source": [
    "def filter_df(df, question):\n",
    "    index, _, _ = question.split()\n",
    "    df_f = df[df[int(index)] == 0]\n",
    "    df_t = df[df[int(index)] != 0]\n",
    "    \n",
    "    return df_f, df_t"
   ]
  },
  {
   "cell_type": "code",
   "execution_count": 123,
   "metadata": {},
   "outputs": [
    {
     "name": "stdout",
     "output_type": "stream",
     "text": [
      "false:      0    1    2    3    4    5    6    7    8    9    ...  491  492  493  \\\n",
      "1      0    1    1    0    0    1    1    1    0    1  ...    1    0    1   \n",
      "4      0    0    1    0    0    0    0    0    1    0  ...    1    0    0   \n",
      "5      0    0    1    1    0    0    0    1    0    0  ...    0    0    0   \n",
      "6      0    1    0    1    0    1    0    1    1    0  ...    1    1    0   \n",
      "9      0    0    0    0    0    1    0    0    0    0  ...    0    0    1   \n",
      "..   ...  ...  ...  ...  ...  ...  ...  ...  ...  ...  ...  ...  ...  ...   \n",
      "190    0    0    0    1    0    1    0    1    1    1  ...    1    0    1   \n",
      "191    0    0    1    1    0    0    0    0    1    1  ...    1    1    1   \n",
      "193    0    0    1    0    1    1    0    0    1    1  ...    1    0    1   \n",
      "195    0    1    0    0    0    1    0    0    0    0  ...    0    0    0   \n",
      "196    0    1    1    0    0    1    1    0    0    1  ...    1    0    0   \n",
      "\n",
      "     494  495  496  497  498  499  500  \n",
      "1      1    1    1    1    1    1    0  \n",
      "4      0    0    0    0    1    1    1  \n",
      "5      0    0    0    0    0    1    0  \n",
      "6      0    0    1    1    0    0    1  \n",
      "9      0    0    0    1    0    1    0  \n",
      "..   ...  ...  ...  ...  ...  ...  ...  \n",
      "190    1    0    1    0    1    0    1  \n",
      "191    0    0    1    1    1    0    0  \n",
      "193    1    0    1    0    0    0    0  \n",
      "195    0    1    1    1    1    1    0  \n",
      "196    0    1    1    1    1    0    1  \n",
      "\n",
      "[103 rows x 501 columns],true:      0    1    2    3    4    5    6    7    8    9    ...  491  492  493  \\\n",
      "0      1    1    1    0    0    1    1    1    1    1  ...    0    1    1   \n",
      "2      1    0    0    0    1    1    1    0    1    1  ...    1    0    1   \n",
      "3      1    1    1    0    1    1    0    0    1    0  ...    1    0    1   \n",
      "7      1    0    1    0    1    0    1    0    0    0  ...    1    0    1   \n",
      "8      1    0    0    1    0    0    1    1    0    1  ...    0    0    1   \n",
      "..   ...  ...  ...  ...  ...  ...  ...  ...  ...  ...  ...  ...  ...  ...   \n",
      "192    1    1    1    0    1    1    1    1    0    1  ...    1    0    1   \n",
      "194    1    1    0    0    1    0    1    0    0    1  ...    1    0    0   \n",
      "197    1    0    0    0    1    0    1    0    0    0  ...    1    0    1   \n",
      "198    1    1    1    1    1    1    1    0    1    1  ...    0    0    0   \n",
      "199    1    0    1    0    1    0    0    0    1    0  ...    0    1    1   \n",
      "\n",
      "     494  495  496  497  498  499  500  \n",
      "0      0    0    0    1    0    1    1  \n",
      "2      1    1    0    1    1    0    1  \n",
      "3      0    0    0    0    1    1    0  \n",
      "7      1    1    0    1    1    0    0  \n",
      "8      1    0    0    1    1    1    1  \n",
      "..   ...  ...  ...  ...  ...  ...  ...  \n",
      "192    0    0    1    1    0    1    1  \n",
      "194    1    0    1    1    0    1    1  \n",
      "197    0    1    0    1    1    1    0  \n",
      "198    1    0    0    0    0    1    1  \n",
      "199    1    1    1    1    1    0    0  \n",
      "\n",
      "[97 rows x 501 columns]\n"
     ]
    }
   ],
   "source": [
    "df_f, df_t = filter_df(df_valid, \"0 == 0\")\n",
    "print(f\"false: {df_f},true: {df_t}\")"
   ]
  },
  {
   "cell_type": "code",
   "execution_count": 124,
   "metadata": {},
   "outputs": [],
   "source": [
    "def pruning_result(tree, df_train, df_val):\n",
    "    leaf = df_train[df_train.columns[-1]].value_counts().index[0]\n",
    "    errors_leaf = sum(df_val[df_val.columns[-1]] != leaf)\n",
    "    classification = df_val.apply(classify_example, axis=1, args=(tree, ))\n",
    "    errors_decision_node = sum(df_val[df_val.columns[-1]] != classification)\n",
    "    \n",
    "    if errors_leaf <= errors_decision_node:\n",
    "        return leaf\n",
    "    else:\n",
    "        return tree"
   ]
  },
  {
   "cell_type": "code",
   "execution_count": 125,
   "metadata": {},
   "outputs": [
    {
     "name": "stdout",
     "output_type": "stream",
     "text": [
      "{'459 == 0': [{'430 == 0': [{'118 == 0': [{'389 == 0': [{'468 == 0': [0, 1]}, 0]}, {'445 == 0': [{'356 == 0': [{'329 == 0': [{'410 == 0': [{'496 == 0': [0, 1]}, 1]}, 0]}, 0]}, {'351 == 0': [1, {'498 == 0': [1, 0]}]}]}]}, {'306 == 0': [{'234 == 0': [{'379 == 0': [{'496 == 0': [0, 1]}, 1]}, {'312 == 0': [0, {'195 == 0': [1, 0]}]}]}, {'172 == 0': [{'360 == 0': [{'497 == 0': [1, 0]}, 1]}, 1]}]}]}, {'321 == 0': [{'311 == 0': [{'383 == 0': [1, {'498 == 0': [1, 0]}]}, {'434 == 0': [{'101 == 0': [0, {'494 == 0': [1, 0]}]}, 0]}]}, {'475 == 0': [{'144 == 0': [0, {'494 == 0': [1, 0]}]}, 0]}]}]}\n"
     ]
    }
   ],
   "source": [
    "final = pruning_result(tree, df_train, df_valid)\n",
    "print(final)"
   ]
  },
  {
   "cell_type": "code",
   "execution_count": 126,
   "metadata": {},
   "outputs": [],
   "source": [
    "def post_pruning(tree, df_train, df_val):\n",
    "    question = list(tree.keys())[0]\n",
    "    yes_answer, no_answer = tree[question]\n",
    "    \n",
    "    # base case\n",
    "    if not isinstance(yes_answer, dict) and not isinstance(no_answer, dict):\n",
    "        return pruning_result(tree, df_train, df_val)\n",
    "    \n",
    "    else:\n",
    "        df_train_yes, df_train_no = filter_df(df_train, question)\n",
    "        df_val_yes, df_val_no = filter_df(df_val, question)\n",
    "        \n",
    "        if isinstance(yes_answer, dict):\n",
    "            yes_answer = post_pruning(yes_answer, df_train_yes, df_val_yes)\n",
    "        \n",
    "        if isinstance(no_answer, dict):\n",
    "            no_answer = post_pruning(no_answer, df_train_no, df_val_no)\n",
    "        \n",
    "        tree = {question: [yes_answer, no_answer]}\n",
    "        \n",
    "    return pruning_result(tree, df_train, df_val)"
   ]
  },
  {
   "cell_type": "code",
   "execution_count": 127,
   "metadata": {},
   "outputs": [],
   "source": [
    "pruned_tree = post_pruning(tree, df_train, df_valid)"
   ]
  },
  {
   "cell_type": "code",
   "execution_count": 128,
   "metadata": {},
   "outputs": [
    {
     "data": {
      "text/plain": [
       "{'459 == 0': [{'430 == 0': [{'118 == 0': [0,\n",
       "      {'445 == 0': [{'356 == 0': [1, 0]}, 1]}]},\n",
       "    1]},\n",
       "  {'321 == 0': [{'311 == 0': [1, 0]}, 0]}]}"
      ]
     },
     "execution_count": 128,
     "metadata": {},
     "output_type": "execute_result"
    }
   ],
   "source": [
    "pruned_tree"
   ]
  },
  {
   "cell_type": "code",
   "execution_count": 129,
   "metadata": {
    "scrolled": true
   },
   "outputs": [
    {
     "data": {
      "text/plain": [
       "{'459 == 0': [{'430 == 0': [{'118 == 0': [{'389 == 0': [{'468 == 0': [0, 1]},\n",
       "        0]},\n",
       "      {'445 == 0': [{'356 == 0': [{'329 == 0': [{'410 == 0': [{'496 == 0': [0,\n",
       "                1]},\n",
       "              1]},\n",
       "            0]},\n",
       "          0]},\n",
       "        {'351 == 0': [1, {'498 == 0': [1, 0]}]}]}]},\n",
       "    {'306 == 0': [{'234 == 0': [{'379 == 0': [{'496 == 0': [0, 1]}, 1]},\n",
       "        {'312 == 0': [0, {'195 == 0': [1, 0]}]}]},\n",
       "      {'172 == 0': [{'360 == 0': [{'497 == 0': [1, 0]}, 1]}, 1]}]}]},\n",
       "  {'321 == 0': [{'311 == 0': [{'383 == 0': [1, {'498 == 0': [1, 0]}]},\n",
       "      {'434 == 0': [{'101 == 0': [0, {'494 == 0': [1, 0]}]}, 0]}]},\n",
       "    {'475 == 0': [{'144 == 0': [0, {'494 == 0': [1, 0]}]}, 0]}]}]}"
      ]
     },
     "execution_count": 129,
     "metadata": {},
     "output_type": "execute_result"
    }
   ],
   "source": [
    "tree"
   ]
  },
  {
   "cell_type": "code",
   "execution_count": 130,
   "metadata": {},
   "outputs": [
    {
     "data": {
      "text/plain": [
       "0.645"
      ]
     },
     "execution_count": 130,
     "metadata": {},
     "output_type": "execute_result"
    }
   ],
   "source": [
    "calculate_accuracy(df_test, pruned_tree)"
   ]
  },
  {
   "cell_type": "code",
   "execution_count": null,
   "metadata": {},
   "outputs": [],
   "source": []
  }
 ],
 "metadata": {
  "kernelspec": {
   "display_name": "Python 3",
   "language": "python",
   "name": "python3"
  },
  "language_info": {
   "codemirror_mode": {
    "name": "ipython",
    "version": 3
   },
   "file_extension": ".py",
   "mimetype": "text/x-python",
   "name": "python",
   "nbconvert_exporter": "python",
   "pygments_lexer": "ipython3",
   "version": "3.6.10"
  }
 },
 "nbformat": 4,
 "nbformat_minor": 4
}
