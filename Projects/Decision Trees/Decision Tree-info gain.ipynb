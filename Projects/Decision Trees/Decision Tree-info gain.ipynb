{
 "cells": [
  {
   "cell_type": "code",
   "execution_count": 51,
   "metadata": {},
   "outputs": [],
   "source": [
    "import numpy as np\n",
    "import pandas as pd\n",
    "import math\n",
    "from platform import python_version\n",
    "from IPython.core.debugger import set_trace\n",
    "\n",
    "import matplotlib.pyplot as plt\n",
    "import seaborn as sns\n",
    "%matplotlib inline\n",
    "\n",
    "import random\n",
    "from pprint import pprint"
   ]
  },
  {
   "cell_type": "code",
   "execution_count": 5,
   "metadata": {},
   "outputs": [],
   "source": [
    "df = pd.read_csv(\"iris.csv\")\n",
    "df = df.rename(columns={\"species\":\"label\"})"
   ]
  },
  {
   "cell_type": "code",
   "execution_count": 6,
   "metadata": {},
   "outputs": [
    {
     "data": {
      "text/html": [
       "<div>\n",
       "<style scoped>\n",
       "    .dataframe tbody tr th:only-of-type {\n",
       "        vertical-align: middle;\n",
       "    }\n",
       "\n",
       "    .dataframe tbody tr th {\n",
       "        vertical-align: top;\n",
       "    }\n",
       "\n",
       "    .dataframe thead th {\n",
       "        text-align: right;\n",
       "    }\n",
       "</style>\n",
       "<table border=\"1\" class=\"dataframe\">\n",
       "  <thead>\n",
       "    <tr style=\"text-align: right;\">\n",
       "      <th></th>\n",
       "      <th>sepal_length</th>\n",
       "      <th>sepal_width</th>\n",
       "      <th>petal_length</th>\n",
       "      <th>petal_width</th>\n",
       "      <th>label</th>\n",
       "    </tr>\n",
       "  </thead>\n",
       "  <tbody>\n",
       "    <tr>\n",
       "      <th>0</th>\n",
       "      <td>6.7</td>\n",
       "      <td>3.3</td>\n",
       "      <td>5.7</td>\n",
       "      <td>2.1</td>\n",
       "      <td>virginica</td>\n",
       "    </tr>\n",
       "    <tr>\n",
       "      <th>1</th>\n",
       "      <td>4.3</td>\n",
       "      <td>3.0</td>\n",
       "      <td>1.1</td>\n",
       "      <td>0.1</td>\n",
       "      <td>setosa</td>\n",
       "    </tr>\n",
       "    <tr>\n",
       "      <th>2</th>\n",
       "      <td>4.8</td>\n",
       "      <td>3.4</td>\n",
       "      <td>1.6</td>\n",
       "      <td>0.2</td>\n",
       "      <td>setosa</td>\n",
       "    </tr>\n",
       "    <tr>\n",
       "      <th>3</th>\n",
       "      <td>5.6</td>\n",
       "      <td>2.8</td>\n",
       "      <td>4.9</td>\n",
       "      <td>2.0</td>\n",
       "      <td>virginica</td>\n",
       "    </tr>\n",
       "    <tr>\n",
       "      <th>4</th>\n",
       "      <td>6.2</td>\n",
       "      <td>2.8</td>\n",
       "      <td>4.8</td>\n",
       "      <td>1.8</td>\n",
       "      <td>virginica</td>\n",
       "    </tr>\n",
       "  </tbody>\n",
       "</table>\n",
       "</div>"
      ],
      "text/plain": [
       "   sepal_length  sepal_width  petal_length  petal_width      label\n",
       "0           6.7          3.3           5.7          2.1  virginica\n",
       "1           4.3          3.0           1.1          0.1     setosa\n",
       "2           4.8          3.4           1.6          0.2     setosa\n",
       "3           5.6          2.8           4.9          2.0  virginica\n",
       "4           6.2          2.8           4.8          1.8  virginica"
      ]
     },
     "execution_count": 6,
     "metadata": {},
     "output_type": "execute_result"
    }
   ],
   "source": [
    "df.head()"
   ]
  },
  {
   "cell_type": "code",
   "execution_count": 7,
   "metadata": {},
   "outputs": [
    {
     "name": "stdout",
     "output_type": "stream",
     "text": [
      "<class 'pandas.core.frame.DataFrame'>\n",
      "RangeIndex: 150 entries, 0 to 149\n",
      "Data columns (total 5 columns):\n",
      " #   Column        Non-Null Count  Dtype  \n",
      "---  ------        --------------  -----  \n",
      " 0   sepal_length  150 non-null    float64\n",
      " 1   sepal_width   150 non-null    float64\n",
      " 2   petal_length  150 non-null    float64\n",
      " 3   petal_width   150 non-null    float64\n",
      " 4   label         150 non-null    object \n",
      "dtypes: float64(4), object(1)\n",
      "memory usage: 6.0+ KB\n"
     ]
    }
   ],
   "source": [
    "df.info()"
   ]
  },
  {
   "cell_type": "code",
   "execution_count": 8,
   "metadata": {},
   "outputs": [],
   "source": [
    "def train_test_split(df, test_size):\n",
    "    indices = df.index.tolist()\n",
    "    test_indices = random.sample(population=indices, k=round(test_size*len(indices))) #k - number of samples required\n",
    "    test_df = df.loc[test_indices]\n",
    "    train_df = df.drop(test_indices)\n",
    "    return train_df, test_df"
   ]
  },
  {
   "cell_type": "code",
   "execution_count": 9,
   "metadata": {},
   "outputs": [
    {
     "name": "stdout",
     "output_type": "stream",
     "text": [
      "15 135\n"
     ]
    }
   ],
   "source": [
    "train_df, test_df = train_test_split(df, 0.1)\n",
    "print(len(test_df), len(train_df))"
   ]
  },
  {
   "cell_type": "code",
   "execution_count": 10,
   "metadata": {},
   "outputs": [],
   "source": [
    "# Convert dataframe to numpy to make it run much faster since numpy uses SIMD feature\n",
    "data = train_df.values #converts to a 2D array"
   ]
  },
  {
   "cell_type": "code",
   "execution_count": 11,
   "metadata": {},
   "outputs": [],
   "source": [
    "def check_purity(data):\n",
    "    \n",
    "    label_column = data[:, -1]\n",
    "    unique_classes = np.unique(label_column)\n",
    "\n",
    "    if len(unique_classes) == 1:\n",
    "        return True\n",
    "    else:\n",
    "        return False"
   ]
  },
  {
   "cell_type": "code",
   "execution_count": 12,
   "metadata": {},
   "outputs": [],
   "source": [
    "def classify_data(data):\n",
    "    label = data[:, -1]\n",
    "    classes, counts = np.unique(label, return_counts=True)\n",
    "#     print(classes, counts)\n",
    "    classification = classes[counts.argmax()]\n",
    "    return classification"
   ]
  },
  {
   "cell_type": "code",
   "execution_count": 13,
   "metadata": {},
   "outputs": [
    {
     "data": {
      "text/plain": [
       "'setosa'"
      ]
     },
     "execution_count": 13,
     "metadata": {},
     "output_type": "execute_result"
    }
   ],
   "source": [
    "classify_data(train_df[train_df.petal_width < 0.8].values)"
   ]
  },
  {
   "cell_type": "markdown",
   "metadata": {},
   "source": [
    "# Potential Split"
   ]
  },
  {
   "cell_type": "code",
   "execution_count": 14,
   "metadata": {},
   "outputs": [],
   "source": [
    "def get_potential_splits(data):\n",
    "    \n",
    "    potential_splits = {}\n",
    "    _, n_columns = data.shape\n",
    "    for column_index in range(n_columns - 1):        # excluding the last column which is the label\n",
    "        potential_splits[column_index] = []\n",
    "        values = data[:, column_index]\n",
    "        unique_values = np.unique(values)\n",
    "\n",
    "        potential_splits[column_index] = unique_values\n",
    "    \n",
    "    return potential_splits"
   ]
  },
  {
   "cell_type": "code",
   "execution_count": 15,
   "metadata": {},
   "outputs": [],
   "source": [
    "def split_data(data, split_column, split_value):  # split value will be 1 split_col will be split_attr\n",
    "    split_column_val = data[:, split_column]\n",
    "    data_below = data[split_column_val <= split_value]\n",
    "    data_above = data[split_column_val > split_value]\n",
    "    return data_below, data_above     # data below will be data false, data above-true"
   ]
  },
  {
   "cell_type": "code",
   "execution_count": 16,
   "metadata": {},
   "outputs": [],
   "source": [
    "split_column = 3\n",
    "split_value = 0.8\n",
    "data_below, data_above = split_data(data, split_column, split_value)"
   ]
  },
  {
   "cell_type": "code",
   "execution_count": 17,
   "metadata": {},
   "outputs": [],
   "source": [
    "def calculate_entropy(data):\n",
    "    label_column = data[:, -1]\n",
    "    _, counts = np.unique(label_column, return_counts=True)\n",
    "    probabilities = counts / counts.sum()\n",
    "    entropy = sum(probabilities * -np.log2(probabilities))\n",
    "    return entropy"
   ]
  },
  {
   "cell_type": "code",
   "execution_count": 18,
   "metadata": {},
   "outputs": [],
   "source": [
    "def calculate_overall_entropy(data_below, data_above):\n",
    "    n_datapoints = len(data_below) + len(data_above)\n",
    "    p_data_below = len(data_below) / n_datapoints\n",
    "    p_data_above = len(data_above) / n_datapoints\n",
    "    overall_entropy = (p_data_below * calculate_entropy(data_below) \n",
    "                       + p_data_above * calculate_entropy(data_above))\n",
    "    return overall_entropy"
   ]
  },
  {
   "cell_type": "code",
   "execution_count": 19,
   "metadata": {},
   "outputs": [
    {
     "data": {
      "text/plain": [
       "0.6496642534954947"
      ]
     },
     "execution_count": 19,
     "metadata": {},
     "output_type": "execute_result"
    }
   ],
   "source": [
    "calculate_overall_entropy(data_below, data_above)"
   ]
  },
  {
   "cell_type": "code",
   "execution_count": 26,
   "metadata": {},
   "outputs": [],
   "source": [
    "def determine_best_split(data, potential_splits):\n",
    "    best_info_gain = None\n",
    "    for column_index in potential_splits:\n",
    "        for value in potential_splits[column_index]:\n",
    "            \n",
    "            data_below, data_above = split_data(data, split_column = column_index, split_value = value)\n",
    "            \n",
    "            # Entropy for data below\n",
    "            Info_gain = (calculate_entropy(data) - \n",
    "                        ((len(data_below)/len(data)) * calculate_entropy(data_below)) - \n",
    "                        ((len(data_above)/len(data)) * calculate_entropy(data_above)))\n",
    "         \n",
    "            if best_info_gain is None:\n",
    "                best_info_gain = Info_gain\n",
    "            elif Info_gain >= best_info_gain:\n",
    "                best_info_gain = Info_gain\n",
    "                best_split_column = column_index\n",
    "                best_split_value = value\n",
    "    return best_split_column, best_split_value"
   ]
  },
  {
   "cell_type": "code",
   "execution_count": 27,
   "metadata": {},
   "outputs": [
    {
     "name": "stdout",
     "output_type": "stream",
     "text": [
      "3 0.5\n"
     ]
    }
   ],
   "source": [
    "split_col, split_val = determine_best_split(data, get_potential_splits(data))\n",
    "print(split_col, split_val)"
   ]
  },
  {
   "cell_type": "code",
   "execution_count": 28,
   "metadata": {},
   "outputs": [
    {
     "data": {
      "text/plain": [
       "(3, 0.5)"
      ]
     },
     "execution_count": 28,
     "metadata": {},
     "output_type": "execute_result"
    }
   ],
   "source": [
    "determine_best_split(data, get_potential_splits(data))"
   ]
  },
  {
   "cell_type": "markdown",
   "metadata": {},
   "source": [
    "## Main algorithm"
   ]
  },
  {
   "cell_type": "code",
   "execution_count": 32,
   "metadata": {},
   "outputs": [],
   "source": [
    "def decision_tree_algorithm(df, counter=0):\n",
    "    data = df.values if counter == 0 else df\n",
    "\n",
    "    #base case\n",
    "    if check_purity(data) == True:\n",
    "        classification = classify_data(data)\n",
    "        return classification\n",
    "        \n",
    "    #recursion\n",
    "    else:\n",
    "        counter+=1\n",
    "        \n",
    "        potential_splits = get_potential_splits(data)\n",
    "        split_column, split_value = determine_best_split(data, potential_splits)\n",
    "        data_below, data_above = split_data(data, split_column, split_value)\n",
    "        \n",
    "        if len(data_below) == 0 or len(data_above) == 0:\n",
    "            classification = classify_data(data)\n",
    "            return classification\n",
    "        \n",
    "        question = f\"if {train_df.columns[split_column]} <= {split_value}\"\n",
    "                \n",
    "        #instantiate sub-tree\n",
    "        sub_tree = {question: []}\n",
    "\n",
    "        yes_answer = decision_tree_algorithm(data_below, counter)\n",
    "        no_answer = decision_tree_algorithm(data_above, counter)\n",
    "        \n",
    "        sub_tree[question].append(yes_answer)\n",
    "        sub_tree[question].append(no_answer)\n",
    "        \n",
    "        return sub_tree    "
   ]
  },
  {
   "cell_type": "code",
   "execution_count": 33,
   "metadata": {},
   "outputs": [
    {
     "data": {
      "text/plain": [
       "{'if petal_width <= 0.5': ['setosa', 'versicolor']}"
      ]
     },
     "execution_count": 33,
     "metadata": {},
     "output_type": "execute_result"
    }
   ],
   "source": [
    "tree = decision_tree_algorithm(train_df[train_df.label != \"virginica\"])\n",
    "tree"
   ]
  },
  {
   "cell_type": "code",
   "execution_count": 53,
   "metadata": {},
   "outputs": [
    {
     "data": {
      "text/plain": [
       "True"
      ]
     },
     "execution_count": 53,
     "metadata": {},
     "output_type": "execute_result"
    }
   ],
   "source": [
    "tree = decision_tree_algorithm(train_df)\n",
    "tree"
   ]
  },
  {
   "cell_type": "markdown",
   "metadata": {},
   "source": [
    "## Classification"
   ]
  },
  {
   "cell_type": "code",
   "execution_count": 36,
   "metadata": {},
   "outputs": [
    {
     "name": "stdout",
     "output_type": "stream",
     "text": [
      "sepal_length           6.6\n",
      "sepal_width              3\n",
      "petal_length           4.4\n",
      "petal_width            1.4\n",
      "label           versicolor\n",
      "Name: 148, dtype: object\n"
     ]
    }
   ],
   "source": [
    "example = test_df.iloc[0]\n",
    "print(example)"
   ]
  },
  {
   "cell_type": "code",
   "execution_count": 39,
   "metadata": {},
   "outputs": [],
   "source": [
    "def classify_example(example, tree, print_path=0):\n",
    "    question = list(tree.keys())[0]\n",
    "    if print_path != 0:\n",
    "        print(question)\n",
    "    _, feature_name, comparison_operator, value = question.split()\n",
    "    \n",
    "    if example[feature_name] <= float(value):\n",
    "        answer = tree[question][0]\n",
    "        if print_path!=0:\n",
    "            print(\"yes\")\n",
    "    else:\n",
    "        answer = tree[question][1]\n",
    "        if print_path!=0:\n",
    "            print(\"no\")\n",
    "    \n",
    "    #base case\n",
    "    if not isinstance(answer, dict):\n",
    "        return answer\n",
    "    else:\n",
    "        return classify_example(example, answer, print_path)    "
   ]
  },
  {
   "cell_type": "code",
   "execution_count": 40,
   "metadata": {},
   "outputs": [
    {
     "name": "stdout",
     "output_type": "stream",
     "text": [
      "if petal_width <= 0.5\n",
      "no\n",
      "if petal_length <= 4.7\n",
      "yes\n"
     ]
    },
    {
     "data": {
      "text/plain": [
       "'versicolor'"
      ]
     },
     "execution_count": 40,
     "metadata": {},
     "output_type": "execute_result"
    }
   ],
   "source": [
    "classify_example(example, tree, 1)"
   ]
  },
  {
   "cell_type": "markdown",
   "metadata": {},
   "source": [
    "### Accuracy"
   ]
  },
  {
   "cell_type": "code",
   "execution_count": 43,
   "metadata": {},
   "outputs": [],
   "source": [
    "def calculate_accuracy(df, tree):\n",
    "    df[\"classification\"] = df.apply(classify_example, axis=1, args=(tree, ))\n",
    "    df[\"classification_correct\"] = df.classification == df.label\n",
    "    accuracy = df.classification_correct.mean()\n",
    "    return accuracy"
   ]
  },
  {
   "cell_type": "code",
   "execution_count": 44,
   "metadata": {},
   "outputs": [
    {
     "data": {
      "text/plain": [
       "1.0"
      ]
     },
     "execution_count": 44,
     "metadata": {},
     "output_type": "execute_result"
    }
   ],
   "source": [
    "calculate_accuracy(train_df, tree)"
   ]
  },
  {
   "cell_type": "code",
   "execution_count": 45,
   "metadata": {},
   "outputs": [
    {
     "name": "stdout",
     "output_type": "stream",
     "text": [
      "     sepal_length  sepal_width  petal_length  petal_width      label  \\\n",
      "0             6.7          3.3           5.7          2.1  virginica   \n",
      "1             4.3          3.0           1.1          0.1     setosa   \n",
      "2             4.8          3.4           1.6          0.2     setosa   \n",
      "3             5.6          2.8           4.9          2.0  virginica   \n",
      "4             6.2          2.8           4.8          1.8  virginica   \n",
      "..            ...          ...           ...          ...        ...   \n",
      "144           4.9          3.1           1.5          0.1     setosa   \n",
      "145           7.7          3.0           6.1          2.3  virginica   \n",
      "146           5.1          3.7           1.5          0.4     setosa   \n",
      "147           5.1          3.5           1.4          0.2     setosa   \n",
      "149           5.1          3.8           1.9          0.4     setosa   \n",
      "\n",
      "    classification  classification_correct  \n",
      "0        virginica                    True  \n",
      "1           setosa                    True  \n",
      "2           setosa                    True  \n",
      "3        virginica                    True  \n",
      "4        virginica                    True  \n",
      "..             ...                     ...  \n",
      "144         setosa                    True  \n",
      "145      virginica                    True  \n",
      "146         setosa                    True  \n",
      "147         setosa                    True  \n",
      "149         setosa                    True  \n",
      "\n",
      "[135 rows x 7 columns]\n"
     ]
    }
   ],
   "source": [
    "print(train_df)"
   ]
  },
  {
   "cell_type": "code",
   "execution_count": null,
   "metadata": {},
   "outputs": [],
   "source": []
  },
  {
   "cell_type": "code",
   "execution_count": 52,
   "metadata": {},
   "outputs": [
    {
     "name": "stdout",
     "output_type": "stream",
     "text": [
      "3.6.10\n"
     ]
    }
   ],
   "source": [
    "print(python_version())"
   ]
  },
  {
   "cell_type": "code",
   "execution_count": null,
   "metadata": {},
   "outputs": [],
   "source": []
  }
 ],
 "metadata": {
  "kernelspec": {
   "display_name": "Python 3",
   "language": "python",
   "name": "python3"
  },
  "language_info": {
   "codemirror_mode": {
    "name": "ipython",
    "version": 3
   },
   "file_extension": ".py",
   "mimetype": "text/x-python",
   "name": "python",
   "nbconvert_exporter": "python",
   "pygments_lexer": "ipython3",
   "version": "3.6.10"
  }
 },
 "nbformat": 4,
 "nbformat_minor": 4
}
